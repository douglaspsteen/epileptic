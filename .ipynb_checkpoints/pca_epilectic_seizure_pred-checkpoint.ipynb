{
 "cells": [
  {
   "cell_type": "markdown",
   "metadata": {},
   "source": [
    "# Purpose\n",
    "\n",
    "Use the epileptic seizure dataset from the UCI Machine Learning repository to explore the implementation of PCA using sklearn. \n",
    "\n",
    "Find the optimal number of PC's to use for the KNN algorithm. \n",
    "\n",
    "Compare results of KNN using 1) Principal Components vs 2) Subset of Features as inputs."
   ]
  },
  {
   "cell_type": "markdown",
   "metadata": {},
   "source": [
    "# Imports"
   ]
  },
  {
   "cell_type": "code",
   "execution_count": 5,
   "metadata": {},
   "outputs": [],
   "source": [
    "import numpy as np\n",
    "import pandas as pd\n",
    "\n",
    "# Visualization\n",
    "import matplotlib.pyplot as plt\n",
    "\n",
    "# Data processing, modeling, and model evaluation\n",
    "from sklearn.preprocessing import StandardScaler\n",
    "from sklearn.decomposition import PCA\n",
    "from sklearn.neighbors import KNeighborsClassifier\n",
    "from sklearn.model_selection import train_test_split\n",
    "from sklearn.metrics import f1_score, classification_report, plot_confusion_matrix\n",
    "\n",
    "# Randomization\n",
    "import random"
   ]
  },
  {
   "cell_type": "markdown",
   "metadata": {},
   "source": [
    "# Obtain"
   ]
  },
  {
   "cell_type": "code",
   "execution_count": 6,
   "metadata": {
    "scrolled": true
   },
   "outputs": [
    {
     "data": {
      "text/html": [
       "<div>\n",
       "<style scoped>\n",
       "    .dataframe tbody tr th:only-of-type {\n",
       "        vertical-align: middle;\n",
       "    }\n",
       "\n",
       "    .dataframe tbody tr th {\n",
       "        vertical-align: top;\n",
       "    }\n",
       "\n",
       "    .dataframe thead th {\n",
       "        text-align: right;\n",
       "    }\n",
       "</style>\n",
       "<table border=\"1\" class=\"dataframe\">\n",
       "  <thead>\n",
       "    <tr style=\"text-align: right;\">\n",
       "      <th></th>\n",
       "      <th>Unnamed: 0</th>\n",
       "      <th>X1</th>\n",
       "      <th>X2</th>\n",
       "      <th>X3</th>\n",
       "      <th>X4</th>\n",
       "      <th>X5</th>\n",
       "      <th>X6</th>\n",
       "      <th>X7</th>\n",
       "      <th>X8</th>\n",
       "      <th>X9</th>\n",
       "      <th>...</th>\n",
       "      <th>X170</th>\n",
       "      <th>X171</th>\n",
       "      <th>X172</th>\n",
       "      <th>X173</th>\n",
       "      <th>X174</th>\n",
       "      <th>X175</th>\n",
       "      <th>X176</th>\n",
       "      <th>X177</th>\n",
       "      <th>X178</th>\n",
       "      <th>y</th>\n",
       "    </tr>\n",
       "  </thead>\n",
       "  <tbody>\n",
       "    <tr>\n",
       "      <td>0</td>\n",
       "      <td>X21.V1.791</td>\n",
       "      <td>135.0</td>\n",
       "      <td>190.0</td>\n",
       "      <td>229.0</td>\n",
       "      <td>223.0</td>\n",
       "      <td>192.0</td>\n",
       "      <td>125.0</td>\n",
       "      <td>55.0</td>\n",
       "      <td>-9.0</td>\n",
       "      <td>-33.0</td>\n",
       "      <td>...</td>\n",
       "      <td>-17.0</td>\n",
       "      <td>-15.0</td>\n",
       "      <td>-31.0</td>\n",
       "      <td>-77.0</td>\n",
       "      <td>-103.0</td>\n",
       "      <td>-127.0</td>\n",
       "      <td>-116.0</td>\n",
       "      <td>-83.0</td>\n",
       "      <td>-51.0</td>\n",
       "      <td>4.0</td>\n",
       "    </tr>\n",
       "    <tr>\n",
       "      <td>1</td>\n",
       "      <td>X15.V1.924</td>\n",
       "      <td>386.0</td>\n",
       "      <td>382.0</td>\n",
       "      <td>356.0</td>\n",
       "      <td>331.0</td>\n",
       "      <td>320.0</td>\n",
       "      <td>315.0</td>\n",
       "      <td>307.0</td>\n",
       "      <td>272.0</td>\n",
       "      <td>244.0</td>\n",
       "      <td>...</td>\n",
       "      <td>164.0</td>\n",
       "      <td>150.0</td>\n",
       "      <td>146.0</td>\n",
       "      <td>152.0</td>\n",
       "      <td>157.0</td>\n",
       "      <td>156.0</td>\n",
       "      <td>154.0</td>\n",
       "      <td>143.0</td>\n",
       "      <td>129.0</td>\n",
       "      <td>1.0</td>\n",
       "    </tr>\n",
       "    <tr>\n",
       "      <td>2</td>\n",
       "      <td>X8.V1.1</td>\n",
       "      <td>-32.0</td>\n",
       "      <td>-39.0</td>\n",
       "      <td>-47.0</td>\n",
       "      <td>-37.0</td>\n",
       "      <td>-32.0</td>\n",
       "      <td>-36.0</td>\n",
       "      <td>-57.0</td>\n",
       "      <td>-73.0</td>\n",
       "      <td>-85.0</td>\n",
       "      <td>...</td>\n",
       "      <td>57.0</td>\n",
       "      <td>64.0</td>\n",
       "      <td>48.0</td>\n",
       "      <td>19.0</td>\n",
       "      <td>-12.0</td>\n",
       "      <td>-30.0</td>\n",
       "      <td>-35.0</td>\n",
       "      <td>-35.0</td>\n",
       "      <td>-36.0</td>\n",
       "      <td>5.0</td>\n",
       "    </tr>\n",
       "    <tr>\n",
       "      <td>3</td>\n",
       "      <td>X16.V1.60</td>\n",
       "      <td>-105.0</td>\n",
       "      <td>-101.0</td>\n",
       "      <td>-96.0</td>\n",
       "      <td>-92.0</td>\n",
       "      <td>-89.0</td>\n",
       "      <td>-95.0</td>\n",
       "      <td>-102.0</td>\n",
       "      <td>-100.0</td>\n",
       "      <td>-87.0</td>\n",
       "      <td>...</td>\n",
       "      <td>-82.0</td>\n",
       "      <td>-81.0</td>\n",
       "      <td>-80.0</td>\n",
       "      <td>-77.0</td>\n",
       "      <td>-85.0</td>\n",
       "      <td>-77.0</td>\n",
       "      <td>-72.0</td>\n",
       "      <td>-69.0</td>\n",
       "      <td>-65.0</td>\n",
       "      <td>5.0</td>\n",
       "    </tr>\n",
       "    <tr>\n",
       "      <td>4</td>\n",
       "      <td>X20.V1.54</td>\n",
       "      <td>-9.0</td>\n",
       "      <td>-65.0</td>\n",
       "      <td>-98.0</td>\n",
       "      <td>-102.0</td>\n",
       "      <td>-78.0</td>\n",
       "      <td>-48.0</td>\n",
       "      <td>-16.0</td>\n",
       "      <td>0.0</td>\n",
       "      <td>-21.0</td>\n",
       "      <td>...</td>\n",
       "      <td>4.0</td>\n",
       "      <td>2.0</td>\n",
       "      <td>-12.0</td>\n",
       "      <td>-32.0</td>\n",
       "      <td>-41.0</td>\n",
       "      <td>-65.0</td>\n",
       "      <td>-83.0</td>\n",
       "      <td>-89.0</td>\n",
       "      <td>-73.0</td>\n",
       "      <td>5.0</td>\n",
       "    </tr>\n",
       "  </tbody>\n",
       "</table>\n",
       "<p>5 rows × 180 columns</p>\n",
       "</div>"
      ],
      "text/plain": [
       "   Unnamed: 0     X1     X2     X3     X4     X5     X6     X7     X8     X9  \\\n",
       "0  X21.V1.791  135.0  190.0  229.0  223.0  192.0  125.0   55.0   -9.0  -33.0   \n",
       "1  X15.V1.924  386.0  382.0  356.0  331.0  320.0  315.0  307.0  272.0  244.0   \n",
       "2     X8.V1.1  -32.0  -39.0  -47.0  -37.0  -32.0  -36.0  -57.0  -73.0  -85.0   \n",
       "3   X16.V1.60 -105.0 -101.0  -96.0  -92.0  -89.0  -95.0 -102.0 -100.0  -87.0   \n",
       "4   X20.V1.54   -9.0  -65.0  -98.0 -102.0  -78.0  -48.0  -16.0    0.0  -21.0   \n",
       "\n",
       "   ...   X170   X171   X172   X173   X174   X175   X176   X177   X178    y  \n",
       "0  ...  -17.0  -15.0  -31.0  -77.0 -103.0 -127.0 -116.0  -83.0  -51.0  4.0  \n",
       "1  ...  164.0  150.0  146.0  152.0  157.0  156.0  154.0  143.0  129.0  1.0  \n",
       "2  ...   57.0   64.0   48.0   19.0  -12.0  -30.0  -35.0  -35.0  -36.0  5.0  \n",
       "3  ...  -82.0  -81.0  -80.0  -77.0  -85.0  -77.0  -72.0  -69.0  -65.0  5.0  \n",
       "4  ...    4.0    2.0  -12.0  -32.0  -41.0  -65.0  -83.0  -89.0  -73.0  5.0  \n",
       "\n",
       "[5 rows x 180 columns]"
      ]
     },
     "metadata": {},
     "output_type": "display_data"
    }
   ],
   "source": [
    "# Load and check data\n",
    "\n",
    "df = pd.read_csv('data.csv')\n",
    "display(df.head())"
   ]
  },
  {
   "cell_type": "markdown",
   "metadata": {},
   "source": [
    "# Scrub"
   ]
  },
  {
   "cell_type": "code",
   "execution_count": 7,
   "metadata": {},
   "outputs": [],
   "source": [
    "# Drop first column of id information\n",
    "\n",
    "df = df.drop('Unnamed: 0', axis=1)"
   ]
  },
  {
   "cell_type": "code",
   "execution_count": 8,
   "metadata": {},
   "outputs": [],
   "source": [
    "# Re-cast target variable (y) as either having a seizure (1) and all else (0)\n",
    "\n",
    "for i in range(len(df)):\n",
    "    \n",
    "    if df.iloc[i]['y'] != 1:\n",
    "        df.at[i, 'y'] = 0"
   ]
  },
  {
   "cell_type": "code",
   "execution_count": 9,
   "metadata": {
    "scrolled": true
   },
   "outputs": [
    {
     "data": {
      "text/html": [
       "<div>\n",
       "<style scoped>\n",
       "    .dataframe tbody tr th:only-of-type {\n",
       "        vertical-align: middle;\n",
       "    }\n",
       "\n",
       "    .dataframe tbody tr th {\n",
       "        vertical-align: top;\n",
       "    }\n",
       "\n",
       "    .dataframe thead th {\n",
       "        text-align: right;\n",
       "    }\n",
       "</style>\n",
       "<table border=\"1\" class=\"dataframe\">\n",
       "  <thead>\n",
       "    <tr style=\"text-align: right;\">\n",
       "      <th></th>\n",
       "      <th>X1</th>\n",
       "      <th>X2</th>\n",
       "      <th>X3</th>\n",
       "      <th>X4</th>\n",
       "      <th>X5</th>\n",
       "      <th>X6</th>\n",
       "      <th>X7</th>\n",
       "      <th>X8</th>\n",
       "      <th>X9</th>\n",
       "      <th>X10</th>\n",
       "      <th>...</th>\n",
       "      <th>X170</th>\n",
       "      <th>X171</th>\n",
       "      <th>X172</th>\n",
       "      <th>X173</th>\n",
       "      <th>X174</th>\n",
       "      <th>X175</th>\n",
       "      <th>X176</th>\n",
       "      <th>X177</th>\n",
       "      <th>X178</th>\n",
       "      <th>y</th>\n",
       "    </tr>\n",
       "  </thead>\n",
       "  <tbody>\n",
       "    <tr>\n",
       "      <td>0</td>\n",
       "      <td>135.0</td>\n",
       "      <td>190.0</td>\n",
       "      <td>229.0</td>\n",
       "      <td>223.0</td>\n",
       "      <td>192.0</td>\n",
       "      <td>125.0</td>\n",
       "      <td>55.0</td>\n",
       "      <td>-9.0</td>\n",
       "      <td>-33.0</td>\n",
       "      <td>-38.0</td>\n",
       "      <td>...</td>\n",
       "      <td>-17.0</td>\n",
       "      <td>-15.0</td>\n",
       "      <td>-31.0</td>\n",
       "      <td>-77.0</td>\n",
       "      <td>-103.0</td>\n",
       "      <td>-127.0</td>\n",
       "      <td>-116.0</td>\n",
       "      <td>-83.0</td>\n",
       "      <td>-51.0</td>\n",
       "      <td>0.0</td>\n",
       "    </tr>\n",
       "    <tr>\n",
       "      <td>1</td>\n",
       "      <td>386.0</td>\n",
       "      <td>382.0</td>\n",
       "      <td>356.0</td>\n",
       "      <td>331.0</td>\n",
       "      <td>320.0</td>\n",
       "      <td>315.0</td>\n",
       "      <td>307.0</td>\n",
       "      <td>272.0</td>\n",
       "      <td>244.0</td>\n",
       "      <td>232.0</td>\n",
       "      <td>...</td>\n",
       "      <td>164.0</td>\n",
       "      <td>150.0</td>\n",
       "      <td>146.0</td>\n",
       "      <td>152.0</td>\n",
       "      <td>157.0</td>\n",
       "      <td>156.0</td>\n",
       "      <td>154.0</td>\n",
       "      <td>143.0</td>\n",
       "      <td>129.0</td>\n",
       "      <td>1.0</td>\n",
       "    </tr>\n",
       "    <tr>\n",
       "      <td>2</td>\n",
       "      <td>-32.0</td>\n",
       "      <td>-39.0</td>\n",
       "      <td>-47.0</td>\n",
       "      <td>-37.0</td>\n",
       "      <td>-32.0</td>\n",
       "      <td>-36.0</td>\n",
       "      <td>-57.0</td>\n",
       "      <td>-73.0</td>\n",
       "      <td>-85.0</td>\n",
       "      <td>-94.0</td>\n",
       "      <td>...</td>\n",
       "      <td>57.0</td>\n",
       "      <td>64.0</td>\n",
       "      <td>48.0</td>\n",
       "      <td>19.0</td>\n",
       "      <td>-12.0</td>\n",
       "      <td>-30.0</td>\n",
       "      <td>-35.0</td>\n",
       "      <td>-35.0</td>\n",
       "      <td>-36.0</td>\n",
       "      <td>0.0</td>\n",
       "    </tr>\n",
       "    <tr>\n",
       "      <td>3</td>\n",
       "      <td>-105.0</td>\n",
       "      <td>-101.0</td>\n",
       "      <td>-96.0</td>\n",
       "      <td>-92.0</td>\n",
       "      <td>-89.0</td>\n",
       "      <td>-95.0</td>\n",
       "      <td>-102.0</td>\n",
       "      <td>-100.0</td>\n",
       "      <td>-87.0</td>\n",
       "      <td>-79.0</td>\n",
       "      <td>...</td>\n",
       "      <td>-82.0</td>\n",
       "      <td>-81.0</td>\n",
       "      <td>-80.0</td>\n",
       "      <td>-77.0</td>\n",
       "      <td>-85.0</td>\n",
       "      <td>-77.0</td>\n",
       "      <td>-72.0</td>\n",
       "      <td>-69.0</td>\n",
       "      <td>-65.0</td>\n",
       "      <td>0.0</td>\n",
       "    </tr>\n",
       "    <tr>\n",
       "      <td>4</td>\n",
       "      <td>-9.0</td>\n",
       "      <td>-65.0</td>\n",
       "      <td>-98.0</td>\n",
       "      <td>-102.0</td>\n",
       "      <td>-78.0</td>\n",
       "      <td>-48.0</td>\n",
       "      <td>-16.0</td>\n",
       "      <td>0.0</td>\n",
       "      <td>-21.0</td>\n",
       "      <td>-59.0</td>\n",
       "      <td>...</td>\n",
       "      <td>4.0</td>\n",
       "      <td>2.0</td>\n",
       "      <td>-12.0</td>\n",
       "      <td>-32.0</td>\n",
       "      <td>-41.0</td>\n",
       "      <td>-65.0</td>\n",
       "      <td>-83.0</td>\n",
       "      <td>-89.0</td>\n",
       "      <td>-73.0</td>\n",
       "      <td>0.0</td>\n",
       "    </tr>\n",
       "  </tbody>\n",
       "</table>\n",
       "<p>5 rows × 179 columns</p>\n",
       "</div>"
      ],
      "text/plain": [
       "      X1     X2     X3     X4     X5     X6     X7     X8     X9    X10  ...  \\\n",
       "0  135.0  190.0  229.0  223.0  192.0  125.0   55.0   -9.0  -33.0  -38.0  ...   \n",
       "1  386.0  382.0  356.0  331.0  320.0  315.0  307.0  272.0  244.0  232.0  ...   \n",
       "2  -32.0  -39.0  -47.0  -37.0  -32.0  -36.0  -57.0  -73.0  -85.0  -94.0  ...   \n",
       "3 -105.0 -101.0  -96.0  -92.0  -89.0  -95.0 -102.0 -100.0  -87.0  -79.0  ...   \n",
       "4   -9.0  -65.0  -98.0 -102.0  -78.0  -48.0  -16.0    0.0  -21.0  -59.0  ...   \n",
       "\n",
       "    X170   X171   X172   X173   X174   X175   X176   X177   X178    y  \n",
       "0  -17.0  -15.0  -31.0  -77.0 -103.0 -127.0 -116.0  -83.0  -51.0  0.0  \n",
       "1  164.0  150.0  146.0  152.0  157.0  156.0  154.0  143.0  129.0  1.0  \n",
       "2   57.0   64.0   48.0   19.0  -12.0  -30.0  -35.0  -35.0  -36.0  0.0  \n",
       "3  -82.0  -81.0  -80.0  -77.0  -85.0  -77.0  -72.0  -69.0  -65.0  0.0  \n",
       "4    4.0    2.0  -12.0  -32.0  -41.0  -65.0  -83.0  -89.0  -73.0  0.0  \n",
       "\n",
       "[5 rows x 179 columns]"
      ]
     },
     "execution_count": 9,
     "metadata": {},
     "output_type": "execute_result"
    }
   ],
   "source": [
    "df.head()"
   ]
  },
  {
   "cell_type": "code",
   "execution_count": 10,
   "metadata": {
    "scrolled": true
   },
   "outputs": [
    {
     "data": {
      "text/plain": [
       "X1      2\n",
       "X2      2\n",
       "X3      2\n",
       "X4      2\n",
       "X5      2\n",
       "       ..\n",
       "X175    2\n",
       "X176    2\n",
       "X177    2\n",
       "X178    2\n",
       "y       0\n",
       "Length: 179, dtype: int64"
      ]
     },
     "execution_count": 10,
     "metadata": {},
     "output_type": "execute_result"
    }
   ],
   "source": [
    "# Check to see if any null values\n",
    "\n",
    "df.isna().sum()"
   ]
  },
  {
   "cell_type": "code",
   "execution_count": 11,
   "metadata": {},
   "outputs": [],
   "source": [
    "# Fill null values with each column mean\n",
    "\n",
    "df = df.fillna(df.mean())"
   ]
  },
  {
   "cell_type": "code",
   "execution_count": 12,
   "metadata": {},
   "outputs": [],
   "source": [
    "# Define X and y\n",
    "\n",
    "X = df.drop('y', axis=1)\n",
    "y = df.y"
   ]
  },
  {
   "cell_type": "code",
   "execution_count": 13,
   "metadata": {},
   "outputs": [
    {
     "data": {
      "image/png": "[encoded data removed]",
      "text/plain": [
       "<Figure size 432x288 with 1 Axes>"
      ]
     },
     "metadata": {
      "needs_background": "light"
     },
     "output_type": "display_data"
    }
   ],
   "source": [
    "# Visualize class distribution\n",
    "\n",
    "y.value_counts().plot(kind='bar')\n",
    "plt.xticks([0,1], ['No Seizure', 'Seizure'])\n",
    "plt.ylabel('Count');"
   ]
  },
  {
   "cell_type": "code",
   "execution_count": 14,
   "metadata": {},
   "outputs": [],
   "source": [
    "# Standardize data\n",
    "\n",
    "scaler = StandardScaler()\n",
    "X = scaler.fit_transform(X)"
   ]
  },
  {
   "cell_type": "code",
   "execution_count": 15,
   "metadata": {},
   "outputs": [],
   "source": [
    "# PCA\n",
    "\n",
    "pca = PCA(n_components=178)\n",
    "pca.fit(X)\n",
    "X_pca = pca.transform(X)"
   ]
  },
  {
   "cell_type": "code",
   "execution_count": 16,
   "metadata": {},
   "outputs": [
    {
     "data": {
      "image/png": "[encoded data removed]",
      "text/plain": [
       "<Figure size 576x432 with 1 Axes>"
      ]
     },
     "metadata": {
      "needs_background": "light"
     },
     "output_type": "display_data"
    }
   ],
   "source": [
    "# Calculate cumulative explained variance across all PCs\n",
    "\n",
    "cum_exp_var = []\n",
    "var_exp = 0\n",
    "for i in pca.explained_variance_ratio_:\n",
    "    var_exp += i\n",
    "    cum_exp_var.append(var_exp)\n",
    "\n",
    "# Plot cumulative explained variance for all PCs\n",
    "\n",
    "fig, ax = plt.subplots(figsize=(8,6))\n",
    "ax.bar(range(1,179), cum_exp_var)\n",
    "ax.set_xlabel('# Principal Components')\n",
    "ax.set_ylabel('% Cumulative Variance Explained');"
   ]
  },
  {
   "cell_type": "markdown",
   "metadata": {},
   "source": [
    "KNN Classifier Using PCA"
   ]
  },
  {
   "cell_type": "code",
   "execution_count": 17,
   "metadata": {
    "scrolled": false
   },
   "outputs": [
    {
     "data": {
      "image/png": "[encoded data removed]",
      "text/plain": [
       "<Figure size 576x432 with 1 Axes>"
      ]
     },
     "metadata": {
      "needs_background": "light"
     },
     "output_type": "display_data"
    }
   ],
   "source": [
    "train_f1 = []\n",
    "test_f1 = []\n",
    "\n",
    "for i in range(20):\n",
    "    \n",
    "    X = X_pca[:,0:i+1]\n",
    "    \n",
    "    # Train-test-split\n",
    "    X_train, X_test, y_train, y_test = train_test_split(X, y,\n",
    "                                                        test_size=0.25,\n",
    "                                                        random_state=42)\n",
    "\n",
    "    # Perform feature scaling\n",
    "    scaler = StandardScaler()\n",
    "    X_train = scaler.fit_transform(X_train)\n",
    "    X_test = scaler.transform(X_test)\n",
    "\n",
    "    # Fit k-NN classifier and make predictions\n",
    "    knn = KNeighborsClassifier()\n",
    "    knn.fit(X_train, y_train)\n",
    "    y_pred_train = knn.predict(X_train)\n",
    "    y_pred_test = knn.predict(X_test)\n",
    "    train_f1.append(f1_score(y_train, y_pred_train))\n",
    "    test_f1.append(f1_score(y_test, y_pred_test))\n",
    "\n",
    "# Plot accuracy by n_neighbors\n",
    "plt.figure(figsize=(8, 6))\n",
    "plt.plot(range(1,21), train_f1, label='Train f1 Score')\n",
    "plt.plot(range(1,21), test_f1, label='Test f1 Score')\n",
    "plt.ylabel('f1 Score')\n",
    "plt.xlabel('# of Principal Components')\n",
    "plt.legend()\n",
    "plt.show()"
   ]
  },
  {
   "cell_type": "markdown",
   "metadata": {},
   "source": [
    "Selection of first for PC's for KNN"
   ]
  },
  {
   "cell_type": "code",
   "execution_count": 18,
   "metadata": {
    "scrolled": true
   },
   "outputs": [
    {
     "name": "stdout",
     "output_type": "stream",
     "text": [
      "Train f1 Score: 0.9100210653024376\n",
      "Test f1 Score: 0.8988970588235294\n",
      "              precision    recall  f1-score   support\n",
      "\n",
      "         0.0       0.97      0.99      0.98      2311\n",
      "         1.0       0.93      0.87      0.90       565\n",
      "\n",
      "    accuracy                           0.96      2876\n",
      "   macro avg       0.95      0.93      0.94      2876\n",
      "weighted avg       0.96      0.96      0.96      2876\n",
      "\n"
     ]
    }
   ],
   "source": [
    " X = X_pca[:,0:4]\n",
    "    \n",
    "# Train-test-split\n",
    "X_train, X_test, y_train, y_test = train_test_split(X, y,\n",
    "                                                    test_size=0.25,\n",
    "                                                    random_state=42)\n",
    "\n",
    "# Perform feature scaling\n",
    "scaler = StandardScaler()\n",
    "X_train = scaler.fit_transform(X_train)\n",
    "X_test = scaler.transform(X_test)\n",
    "\n",
    "# Fit k-NN classifier and make predictions\n",
    "knn = KNeighborsClassifier()\n",
    "knn.fit(X_train, y_train)\n",
    "y_pred_train = knn.predict(X_train)\n",
    "y_pred_test = knn.predict(X_test)\n",
    "    \n",
    "print(f'Train f1 Score: {f1_score(y_train, y_pred_train)}')\n",
    "print(f'Test f1 Score: {f1_score(y_test, y_pred_test)}')\n",
    "print(classification_report(y_test, y_pred_test))"
   ]
  },
  {
   "cell_type": "code",
   "execution_count": 19,
   "metadata": {
    "scrolled": false
   },
   "outputs": [
    {
     "data": {
      "image/png": "[encoded data removed]",
      "text/plain": [
       "<Figure size 432x288 with 2 Axes>"
      ]
     },
     "metadata": {
      "needs_background": "light"
     },
     "output_type": "display_data"
    }
   ],
   "source": [
    "plot_confusion_matrix(knn, X_test, y_test, display_labels=['No Seizure',\n",
    "                                                          'Seizure'],\n",
    "                     normalize='true', cmap='Blues');"
   ]
  },
  {
   "cell_type": "markdown",
   "metadata": {},
   "source": [
    "KNN using features most correlated to target"
   ]
  },
  {
   "cell_type": "code",
   "execution_count": 22,
   "metadata": {},
   "outputs": [
    {
     "name": "stdout",
     "output_type": "stream",
     "text": [
      "['X169', 'X75', 'X48', 'X15']\n"
     ]
    }
   ],
   "source": [
    "# Define X and y\n",
    "\n",
    "X = df.drop('y', axis=1)\n",
    "y = df.y\n",
    "\n",
    "# Loop to select random columns to be used in classifier\n",
    "random_cols = []\n",
    "\n",
    "for i in range(4):\n",
    "    rand_col = 'X' + str(random.randint(1,178))\n",
    "    random_cols.append(rand_col)\n",
    "    \n",
    "print(random_cols)    \n"
   ]
  },
  {
   "cell_type": "code",
   "execution_count": 23,
   "metadata": {
    "scrolled": true
   },
   "outputs": [
    {
     "name": "stdout",
     "output_type": "stream",
     "text": [
      "Train f1 Score: 0.8595194085027726\n",
      "Test f1 Score: 0.8060548722800379\n",
      "              precision    recall  f1-score   support\n",
      "\n",
      "         0.0       0.94      0.97      0.96      2311\n",
      "         1.0       0.87      0.75      0.81       565\n",
      "\n",
      "    accuracy                           0.93      2876\n",
      "   macro avg       0.90      0.86      0.88      2876\n",
      "weighted avg       0.93      0.93      0.93      2876\n",
      "\n"
     ]
    }
   ],
   "source": [
    "X = X[random_cols]\n",
    "\n",
    "# Train-test-split\n",
    "X_train, X_test, y_train, y_test = train_test_split(X, y,\n",
    "                                                    test_size=0.25,\n",
    "                                                    random_state=42)\n",
    "\n",
    "# Perform feature scaling\n",
    "scaler = StandardScaler()\n",
    "X_train = scaler.fit_transform(X_train)\n",
    "X_test = scaler.transform(X_test)\n",
    "\n",
    "# Fit k-NN classifier and make predictions\n",
    "knn = KNeighborsClassifier()\n",
    "knn.fit(X_train, y_train)\n",
    "y_pred_train = knn.predict(X_train)\n",
    "y_pred_test = knn.predict(X_test)\n",
    "    \n",
    "print(f'Train f1 Score: {f1_score(y_train, y_pred_train)}')\n",
    "print(f'Test f1 Score: {f1_score(y_test, y_pred_test)}')\n",
    "print(classification_report(y_test, y_pred_test))"
   ]
  },
  {
   "cell_type": "code",
   "execution_count": 24,
   "metadata": {
    "scrolled": true
   },
   "outputs": [
    {
     "data": {
      "image/png": "[encoded data removed]",
      "text/plain": [
       "<Figure size 432x288 with 2 Axes>"
      ]
     },
     "metadata": {
      "needs_background": "light"
     },
     "output_type": "display_data"
    }
   ],
   "source": [
    "plot_confusion_matrix(knn, X_test, y_test, display_labels=['No Seizure',\n",
    "                                                          'Seizure'],\n",
    "                     normalize='true', cmap='Blues');"
   ]
  }
 ],
 "metadata": {
  "kernelspec": {
   "display_name": "learn-env",
   "language": "python",
   "name": "learn-env"
  },
  "language_info": {
   "codemirror_mode": {
    "name": "ipython",
    "version": 3
   },
   "file_extension": ".py",
   "mimetype": "text/x-python",
   "name": "python",
   "nbconvert_exporter": "python",
   "pygments_lexer": "ipython3",
   "version": "3.6.9"
  },
  "toc": {
   "base_numbering": 1,
   "nav_menu": {},
   "number_sections": true,
   "sideBar": true,
   "skip_h1_title": false,
   "title_cell": "Table of Contents",
   "title_sidebar": "Contents",
   "toc_cell": false,
   "toc_position": {},
   "toc_section_display": true,
   "toc_window_display": true
  }
 },
 "nbformat": 4,
 "nbformat_minor": 2
}
